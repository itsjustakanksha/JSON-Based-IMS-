{
  "nbformat": 4,
  "nbformat_minor": 0,
  "metadata": {
    "colab": {
      "name": "sales.ipynb",
      "provenance": []
    },
    "kernelspec": {
      "name": "python3",
      "display_name": "Python 3"
    },
    "language_info": {
      "name": "python"
    }
  },
  "cells": [
    {
      "cell_type": "markdown",
      "metadata": {
        "id": "_2jsVUYNrRC8"
      },
      "source": [
        "**Reading Inventory**"
      ]
    },
    {
      "cell_type": "code",
      "metadata": {
        "id": "eapf4MxNrWyT"
      },
      "source": [
        "import json\n",
        "f = open(\"record.json\",'r')\n",
        "r = f.read()\n",
        "fd.close()\n",
        "records = json.loads(r)"
      ],
      "execution_count": 6,
      "outputs": []
    },
    {
      "cell_type": "code",
      "metadata": {
        "colab": {
          "base_uri": "https://localhost:8080/"
        },
        "id": "NMtNWf3sraUC",
        "outputId": "8f74a09d-1412-4c26-f4d1-60774a3923e1"
      },
      "source": [
        "records"
      ],
      "execution_count": 7,
      "outputs": [
        {
          "output_type": "execute_result",
          "data": {
            "text/plain": [
              "{'1001': {'name': 'Choco Cake', 'pr': 100, 'qn': 34},\n",
              " '1002': {'name': 'Milk Cake', 'pr': 800, 'qn': 100},\n",
              " '1003': {'name': 'Drink', 'pr': 85, 'qn': 100},\n",
              " '1004': {'name': 'Candy', 'pr': 5, 'qn': 1000},\n",
              " '1005': {'name': 'Pen', 'pr': 20, 'qn': 100},\n",
              " '1006': {'name': 'Phone', 'pr': 50000, 'qn': 10},\n",
              " '1007': {'name': 'Mic', 'pr': 1500, 'qn': 0},\n",
              " '1008': {'name': 'Case', 'pr': 599, 'qn': 5},\n",
              " '1009': {'name': 'Keyboard', 'pr': 1999, 'qn': 10},\n",
              " '1010': {'name': 'Sofa', 'pr': 23000, 'qn': 20},\n",
              " '1011': {'name': 'Chair', 'pr': 1200, 'qn': 34},\n",
              " '1012': {'name': 'Table', 'pr': 2500, 'qn': 23},\n",
              " '1013': {'name': 'Mug', 'pr': 250, 'qn': 30},\n",
              " '1014': {'name': 'Toffee', 'pr': 2, 'qn': 200},\n",
              " '1015': {'name': 'Coffee', 'pr': 250, 'qn': 25},\n",
              " '1016': {'name': 'Plate', 'pr': 50, 'qn': 50},\n",
              " '1017': {'name': 'Glass', 'pr': 25, 'qn': 34},\n",
              " '1018': {'name': 'Pizza', 'pr': 300, 'qn': 2},\n",
              " '1019': {'name': 'Ketchup', 'pr': 99, 'qn': 20},\n",
              " '1020': {'name': 'Mayonnaise', 'pr': 120, 'qn': 30},\n",
              " '1021': {'name': 'Pickle', 'pr': 30, 'qn': 20},\n",
              " '1022': {'name': 'Salsa', 'pr': 30, 'qn': 30},\n",
              " '1023': {'name': 'Belt', 'pr': 200, 'qn': 20},\n",
              " '1024': {'name': 'Bed', 'pr': 23000, 'qn': 23},\n",
              " '1025': {'name': 'Mattress', 'pr': 3000, 'qn': 3},\n",
              " '1026': {'name': 'Vase', 'pr': 390, 'qn': 34},\n",
              " '1027': {'name': 'Artificial Flower', 'pr': 34, 'qn': 500},\n",
              " '1028': {'name': 'Carpet', 'pr': 3000, 'qn': 30},\n",
              " '1029': {'name': 'Rug', 'pr': 300, 'qn': 30},\n",
              " '1030': {'name': 'Towel', 'pr': 400, 'qn': 50},\n",
              " '1031': {'name': '23', 'pr': 24, 'qn': 34}}"
            ]
          },
          "metadata": {},
          "execution_count": 7
        }
      ]
    },
    {
      "cell_type": "markdown",
      "metadata": {
        "id": "b1-iBDVcrehA"
      },
      "source": [
        "**Purchasing from Inventory**"
      ]
    },
    {
      "cell_type": "code",
      "metadata": {
        "colab": {
          "base_uri": "https://localhost:8080/"
        },
        "id": "pSRF2zJ1racl",
        "outputId": "5f8eafaf-dc94-4417-efd9-c698e2f69148"
      },
      "source": [
        "ui_prod  = input(\"Enter the Product Id: \")\n",
        "ui_quant = int(input(\"Enter the Quantity: \"))\n",
        "\n",
        "\n",
        "print(\"Product: \", records[ui_prod]['name'])\n",
        "print(\"Price: \", records[ui_prod]['pr'])\n",
        "print(\"Billing Amount: \", records[ui_prod]['pr'] * ui_quant)\n",
        "\n",
        "records[ui_prod]['qn'] = records[ui_prod]['qn'] - ui_quant"
      ],
      "execution_count": 8,
      "outputs": [
        {
          "output_type": "stream",
          "name": "stdout",
          "text": [
            "Enter the Product Id: 1030\n",
            "Enter the Quantity: 1\n",
            "Product:  Towel\n",
            "Price:  400\n",
            "Billing Amount:  400\n"
          ]
        }
      ]
    },
    {
      "cell_type": "markdown",
      "metadata": {
        "id": "v7kTI1Q3tqII"
      },
      "source": [
        "**Updating Inventory After Purchase**"
      ]
    },
    {
      "cell_type": "code",
      "metadata": {
        "id": "cfY7sZzMrahD"
      },
      "source": [
        "js = json.dumps(records)\n",
        "\n",
        "fd = open(\"record.json\",'w')\n",
        "fd.write(js)\n",
        "fd.close()"
      ],
      "execution_count": 9,
      "outputs": []
    },
    {
      "cell_type": "code",
      "metadata": {
        "colab": {
          "base_uri": "https://localhost:8080/"
        },
        "id": "n9-pPt9craqR",
        "outputId": "98349047-e38d-49ca-a673-dd1d5ecbd176"
      },
      "source": [
        "records"
      ],
      "execution_count": 11,
      "outputs": [
        {
          "output_type": "execute_result",
          "data": {
            "text/plain": [
              "{'1001': {'name': 'Choco Cake', 'pr': 100, 'qn': 34},\n",
              " '1002': {'name': 'Milk Cake', 'pr': 800, 'qn': 100},\n",
              " '1003': {'name': 'Drink', 'pr': 85, 'qn': 100},\n",
              " '1004': {'name': 'Candy', 'pr': 5, 'qn': 1000},\n",
              " '1005': {'name': 'Pen', 'pr': 20, 'qn': 100},\n",
              " '1006': {'name': 'Phone', 'pr': 50000, 'qn': 10},\n",
              " '1007': {'name': 'Mic', 'pr': 1500, 'qn': 0},\n",
              " '1008': {'name': 'Case', 'pr': 599, 'qn': 5},\n",
              " '1009': {'name': 'Keyboard', 'pr': 1999, 'qn': 10},\n",
              " '1010': {'name': 'Sofa', 'pr': 23000, 'qn': 20},\n",
              " '1011': {'name': 'Chair', 'pr': 1200, 'qn': 34},\n",
              " '1012': {'name': 'Table', 'pr': 2500, 'qn': 23},\n",
              " '1013': {'name': 'Mug', 'pr': 250, 'qn': 30},\n",
              " '1014': {'name': 'Toffee', 'pr': 2, 'qn': 200},\n",
              " '1015': {'name': 'Coffee', 'pr': 250, 'qn': 25},\n",
              " '1016': {'name': 'Plate', 'pr': 50, 'qn': 50},\n",
              " '1017': {'name': 'Glass', 'pr': 25, 'qn': 34},\n",
              " '1018': {'name': 'Pizza', 'pr': 300, 'qn': 2},\n",
              " '1019': {'name': 'Ketchup', 'pr': 99, 'qn': 20},\n",
              " '1020': {'name': 'Mayonnaise', 'pr': 120, 'qn': 30},\n",
              " '1021': {'name': 'Pickle', 'pr': 30, 'qn': 20},\n",
              " '1022': {'name': 'Salsa', 'pr': 30, 'qn': 30},\n",
              " '1023': {'name': 'Belt', 'pr': 200, 'qn': 20},\n",
              " '1024': {'name': 'Bed', 'pr': 23000, 'qn': 23},\n",
              " '1025': {'name': 'Mattress', 'pr': 3000, 'qn': 3},\n",
              " '1026': {'name': 'Vase', 'pr': 390, 'qn': 34},\n",
              " '1027': {'name': 'Artificial Flower', 'pr': 34, 'qn': 500},\n",
              " '1028': {'name': 'Carpet', 'pr': 3000, 'qn': 30},\n",
              " '1029': {'name': 'Rug', 'pr': 300, 'qn': 30},\n",
              " '1030': {'name': 'Towel', 'pr': 400, 'qn': 49},\n",
              " '1031': {'name': '23', 'pr': 24, 'qn': 34}}"
            ]
          },
          "metadata": {},
          "execution_count": 11
        }
      ]
    },
    {
      "cell_type": "markdown",
      "metadata": {
        "id": "PASPmGGhuBVl"
      },
      "source": [
        "**Sales JSON File**"
      ]
    },
    {
      "cell_type": "code",
      "metadata": {
        "colab": {
          "base_uri": "https://localhost:8080/"
        },
        "id": "ex_Zz4EIratK",
        "outputId": "0ee3e9dd-e432-420e-d589-8f44dbee8f2b"
      },
      "source": [
        "{'prod' : ui_prod, 'qn' : ui_quant, 'amount': records[ui_prod]['pr'] * ui_quant}"
      ],
      "execution_count": 12,
      "outputs": [
        {
          "output_type": "execute_result",
          "data": {
            "text/plain": [
              "{'amount': 400, 'prod': '1030', 'qn': 1}"
            ]
          },
          "metadata": {},
          "execution_count": 12
        }
      ]
    },
    {
      "cell_type": "code",
      "metadata": {
        "id": "WFTOKZMyv-rW"
      },
      "source": [
        "sales = {1 : {'prod' : ui_prod, 'qn' : ui_quant, 'amount': records[ui_prod]['pr'] * ui_quant},\n",
        "         2 : {'prod' : ui_prod, 'qn' : ui_quant, 'amount': records[ui_prod]['pr'] * ui_quant},\n",
        "         3 : {'prod' : ui_prod, 'qn' : ui_quant, 'amount': records[ui_prod]['pr'] * ui_quant}}"
      ],
      "execution_count": 17,
      "outputs": []
    },
    {
      "cell_type": "code",
      "metadata": {
        "id": "16dRE3cTv-yH"
      },
      "source": [
        "sale = json.dumps(sales)"
      ],
      "execution_count": 18,
      "outputs": []
    },
    {
      "cell_type": "code",
      "metadata": {
        "colab": {
          "base_uri": "https://localhost:8080/",
          "height": 35
        },
        "id": "1b4URRfbwO0Y",
        "outputId": "77da2f88-0503-4862-91fb-23ff218cd071"
      },
      "source": [
        "sale"
      ],
      "execution_count": 19,
      "outputs": [
        {
          "output_type": "execute_result",
          "data": {
            "application/vnd.google.colaboratory.intrinsic+json": {
              "type": "string"
            },
            "text/plain": [
              "'{\"1\": {\"prod\": \"1030\", \"qn\": 1, \"amount\": 400}, \"2\": {\"prod\": \"1030\", \"qn\": 1, \"amount\": 400}, \"3\": {\"prod\": \"1030\", \"qn\": 1, \"amount\": 400}}'"
            ]
          },
          "metadata": {},
          "execution_count": 19
        }
      ]
    }
  ]
}