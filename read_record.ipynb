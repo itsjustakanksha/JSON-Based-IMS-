{
  "nbformat": 4,
  "nbformat_minor": 0,
  "metadata": {
    "colab": {
      "name": "read_record.ipynb",
      "provenance": []
    },
    "kernelspec": {
      "name": "python3",
      "display_name": "Python 3"
    },
    "language_info": {
      "name": "python"
    }
  },
  "cells": [
    {
      "cell_type": "markdown",
      "metadata": {
        "id": "R0hrFhLxgSod"
      },
      "source": [
        "**Read data from JSON file**\n"
      ]
    },
    {
      "cell_type": "code",
      "metadata": {
        "id": "Ri2iftrYgYbj"
      },
      "source": [
        "import json\n",
        "f=open(\"record.json\",'r')\n",
        "r=f.read()\n",
        "f.close()\n",
        "record=json.loads(r)"
      ],
      "execution_count": 4,
      "outputs": []
    },
    {
      "cell_type": "code",
      "metadata": {
        "colab": {
          "base_uri": "https://localhost:8080/"
        },
        "id": "y949IARBgkni",
        "outputId": "e1b4d6d6-51ee-438a-a214-9320f1fb1671"
      },
      "source": [
        "record"
      ],
      "execution_count": 5,
      "outputs": [
        {
          "output_type": "execute_result",
          "data": {
            "text/plain": [
              "{'1001': {'name': 'Choco Cake', 'pr': 100, 'qn': 34},\n",
              " '1002': {'name': 'Milk Cake', 'pr': 800, 'qn': 100},\n",
              " '1003': {'name': 'Drink', 'pr': 85, 'qn': 100},\n",
              " '1004': {'name': 'Candy', 'pr': 5, 'qn': 1000},\n",
              " '1005': {'name': 'Pen', 'pr': 20, 'qn': 100},\n",
              " '1006': {'name': 'Phone', 'pr': 50000, 'qn': 10},\n",
              " '1007': {'name': 'Mic', 'pr': 1500, 'qn': 0},\n",
              " '1008': {'name': 'Case', 'pr': 599, 'qn': 5},\n",
              " '1009': {'name': 'Keyboard', 'pr': 1999, 'qn': 10}}"
            ]
          },
          "metadata": {},
          "execution_count": 5
        }
      ]
    },
    {
      "cell_type": "markdown",
      "metadata": {
        "id": "SB_G9cXLgoL5"
      },
      "source": [
        "**Adding new items in already existing Inventory** "
      ]
    },
    {
      "cell_type": "code",
      "metadata": {
        "colab": {
          "base_uri": "https://localhost:8080/"
        },
        "id": "9yVx4gKpgkhh",
        "outputId": "51c358f5-506b-4a30-f32c-c5f43476b376"
      },
      "source": [
        "pid = input(\"Enter Product id:\")\n",
        "name = input(\"Enter Name:\")\n",
        "pr = int(input(\"Enter Price:\"))\n",
        "qn = int(input(\"Enter Quantity:\"))\n",
        "\n",
        "record[pid] = {'name': name, 'pr': pr, 'qn': qn}\n",
        "\n",
        "js = json.dumps(record)\n",
        "\n",
        "fd = open(\"record.json\",'w')\n",
        "fd.write(js)\n",
        "fd.close()"
      ],
      "execution_count": 40,
      "outputs": [
        {
          "name": "stdout",
          "output_type": "stream",
          "text": [
            "Enter Product id:1031\n",
            "Enter Name:23\n",
            "Enter Price:24\n",
            "Enter Quantity:34\n"
          ]
        }
      ]
    },
    {
      "cell_type": "code",
      "metadata": {
        "colab": {
          "base_uri": "https://localhost:8080/"
        },
        "id": "x42ak8SFgkWY",
        "outputId": "b92ff4ed-f383-473b-aae9-b62f779fbd48"
      },
      "source": [
        "record"
      ],
      "execution_count": 41,
      "outputs": [
        {
          "output_type": "execute_result",
          "data": {
            "text/plain": [
              "{'1001': {'name': 'Choco Cake', 'pr': 100, 'qn': 34},\n",
              " '1002': {'name': 'Milk Cake', 'pr': 800, 'qn': 100},\n",
              " '1003': {'name': 'Drink', 'pr': 85, 'qn': 100},\n",
              " '1004': {'name': 'Candy', 'pr': 5, 'qn': 1000},\n",
              " '1005': {'name': 'Pen', 'pr': 20, 'qn': 100},\n",
              " '1006': {'name': 'Phone', 'pr': 50000, 'qn': 10},\n",
              " '1007': {'name': 'Mic', 'pr': 1500, 'qn': 0},\n",
              " '1008': {'name': 'Case', 'pr': 599, 'qn': 5},\n",
              " '1009': {'name': 'Keyboard', 'pr': 1999, 'qn': 10},\n",
              " '1010': {'name': 'Sofa', 'pr': 23000, 'qn': 20},\n",
              " '1011': {'name': 'Chair', 'pr': 1200, 'qn': 34},\n",
              " '1012': {'name': 'Table', 'pr': 2500, 'qn': 23},\n",
              " '1013': {'name': 'Mug', 'pr': 250, 'qn': 30},\n",
              " '1014': {'name': 'Toffee', 'pr': 2, 'qn': 200},\n",
              " '1015': {'name': 'Coffee', 'pr': 250, 'qn': 25},\n",
              " '1016': {'name': 'Plate', 'pr': 50, 'qn': 50},\n",
              " '1017': {'name': 'Glass', 'pr': 25, 'qn': 34},\n",
              " '1018': {'name': 'Pizza', 'pr': 300, 'qn': 2},\n",
              " '1019': {'name': 'Ketchup', 'pr': 99, 'qn': 20},\n",
              " '1020': {'name': 'Mayonnaise', 'pr': 120, 'qn': 30},\n",
              " '1021': {'name': 'Pickle', 'pr': 30, 'qn': 20},\n",
              " '1022': {'name': 'Salsa', 'pr': 30, 'qn': 30},\n",
              " '1023': {'name': 'Belt', 'pr': 200, 'qn': 20},\n",
              " '1024': {'name': 'Bed', 'pr': 23000, 'qn': 23},\n",
              " '1025': {'name': 'Mattress', 'pr': 3000, 'qn': 3},\n",
              " '1026': {'name': 'Vase', 'pr': 390, 'qn': 34},\n",
              " '1027': {'name': 'Artificial Flower', 'pr': 34, 'qn': 500},\n",
              " '1028': {'name': 'Carpet', 'pr': 3000, 'qn': 30},\n",
              " '1029': {'name': 'Rug', 'pr': 300, 'qn': 30},\n",
              " '1030': {'name': 'Towel', 'pr': 400, 'qn': 50},\n",
              " '1031': {'name': '23', 'pr': 24, 'qn': 34}}"
            ]
          },
          "metadata": {},
          "execution_count": 41
        }
      ]
    },
    {
      "cell_type": "markdown",
      "metadata": {
        "id": "ttVm2IXup2Hf"
      },
      "source": [
        "**Deleting an entry**\n"
      ]
    },
    {
      "cell_type": "code",
      "metadata": {
        "id": "IZMLNdXHgkQ3"
      },
      "source": [
        "del record['1031']"
      ],
      "execution_count": 42,
      "outputs": []
    },
    {
      "cell_type": "code",
      "metadata": {
        "colab": {
          "base_uri": "https://localhost:8080/"
        },
        "id": "J2UzC7HQgkME",
        "outputId": "f1b06693-1dfb-40cd-8ad1-af508522036e"
      },
      "source": [
        "record"
      ],
      "execution_count": 43,
      "outputs": [
        {
          "output_type": "execute_result",
          "data": {
            "text/plain": [
              "{'1001': {'name': 'Choco Cake', 'pr': 100, 'qn': 34},\n",
              " '1002': {'name': 'Milk Cake', 'pr': 800, 'qn': 100},\n",
              " '1003': {'name': 'Drink', 'pr': 85, 'qn': 100},\n",
              " '1004': {'name': 'Candy', 'pr': 5, 'qn': 1000},\n",
              " '1005': {'name': 'Pen', 'pr': 20, 'qn': 100},\n",
              " '1006': {'name': 'Phone', 'pr': 50000, 'qn': 10},\n",
              " '1007': {'name': 'Mic', 'pr': 1500, 'qn': 0},\n",
              " '1008': {'name': 'Case', 'pr': 599, 'qn': 5},\n",
              " '1009': {'name': 'Keyboard', 'pr': 1999, 'qn': 10},\n",
              " '1010': {'name': 'Sofa', 'pr': 23000, 'qn': 20},\n",
              " '1011': {'name': 'Chair', 'pr': 1200, 'qn': 34},\n",
              " '1012': {'name': 'Table', 'pr': 2500, 'qn': 23},\n",
              " '1013': {'name': 'Mug', 'pr': 250, 'qn': 30},\n",
              " '1014': {'name': 'Toffee', 'pr': 2, 'qn': 200},\n",
              " '1015': {'name': 'Coffee', 'pr': 250, 'qn': 25},\n",
              " '1016': {'name': 'Plate', 'pr': 50, 'qn': 50},\n",
              " '1017': {'name': 'Glass', 'pr': 25, 'qn': 34},\n",
              " '1018': {'name': 'Pizza', 'pr': 300, 'qn': 2},\n",
              " '1019': {'name': 'Ketchup', 'pr': 99, 'qn': 20},\n",
              " '1020': {'name': 'Mayonnaise', 'pr': 120, 'qn': 30},\n",
              " '1021': {'name': 'Pickle', 'pr': 30, 'qn': 20},\n",
              " '1022': {'name': 'Salsa', 'pr': 30, 'qn': 30},\n",
              " '1023': {'name': 'Belt', 'pr': 200, 'qn': 20},\n",
              " '1024': {'name': 'Bed', 'pr': 23000, 'qn': 23},\n",
              " '1025': {'name': 'Mattress', 'pr': 3000, 'qn': 3},\n",
              " '1026': {'name': 'Vase', 'pr': 390, 'qn': 34},\n",
              " '1027': {'name': 'Artificial Flower', 'pr': 34, 'qn': 500},\n",
              " '1028': {'name': 'Carpet', 'pr': 3000, 'qn': 30},\n",
              " '1029': {'name': 'Rug', 'pr': 300, 'qn': 30},\n",
              " '1030': {'name': 'Towel', 'pr': 400, 'qn': 50}}"
            ]
          },
          "metadata": {},
          "execution_count": 43
        }
      ]
    }
  ]
}